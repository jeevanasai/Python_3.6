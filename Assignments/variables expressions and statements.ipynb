{
 "cells": [
  {
   "cell_type": "code",
   "execution_count": 2,
   "metadata": {},
   "outputs": [
    {
     "name": "stdout",
     "output_type": "stream",
     "text": [
      "Enter no: of people: 30\n",
      "Enter no:of seats in people2\n",
      "15\n"
     ]
    }
   ],
   "source": [
    "\"\"\"1.Take the input from the user for(Total number of people,Number of seats for bus. Based on two inputs\n",
    "Decide how many number of buses required\n",
    "\"\"\"\n",
    "num_of_people = int(input(\"Enter no: of people: \"))\n",
    "no_of_seats=int(input (\"Enter no:of seats in people\"))\n",
    "total=int(num_of_people/no_of_seats)+bool(num_of_people%no_of_seats)\n",
    "print (total)\n"
   ]
  },
  {
   "cell_type": "code",
   "execution_count": 3,
   "metadata": {},
   "outputs": [
    {
     "name": "stdout",
     "output_type": "stream",
     "text": [
      "Enter temperature in Farenheit: 32\n",
      "Temperature in celsius is: 0.00\n"
     ]
    }
   ],
   "source": [
    "#2.\ttake temperature from the user and convert foreign heat -> Celsius.\n",
    "temp=float((input(\"Enter temperature in Farenheit: \")))\n",
    "c_temp= ((temp-32)*5)/9\n",
    "print (\"Temperature in celsius is: %.2f\"%c_temp)\n",
    "#print (\"%.2f\"%c_temp)"
   ]
  },
  {
   "cell_type": "code",
   "execution_count": 14,
   "metadata": {},
   "outputs": [
    {
     "name": "stdout",
     "output_type": "stream",
     "text": [
      "Enter temperature in celsius: 60\n",
      "Temperature in Farenheit is: 140.00\n"
     ]
    }
   ],
   "source": [
    "#3.take temperature from the user and convert Celsius → foreign heat.\n",
    "temp=float((input(\"Enter temperature in celsius: \")))\n",
    "f_temp= temp*(9/5)+32\n",
    "#f_temp= (temp*9/5)+32\n",
    "print (\"Temperature in Farenheit is: %.2f\"%f_temp)\n"
   ]
  },
  {
   "cell_type": "code",
   "execution_count": null,
   "metadata": {},
   "outputs": [],
   "source": [
    "\"\"\"5.Take the distance in km\n",
    " Show that in cm, meters, in milli meters, cents, feets\n",
    " doubtHow to write = e^6\n",
    "\"\"\"\n",
    "distance = float(input(\"Enter the distance in kilometers: \"))\n",
    "print (\"1km=1000mtrs ,Distance in meters: \",distance*1000)\n",
    "print (\"1km=100000cm, Distance in CM: \",distance*100000)\n",
    "print (\"1km=100000cm, Distance in mm: \",distance*1000000)\n"
   ]
  },
  {
   "cell_type": "code",
   "execution_count": null,
   "metadata": {},
   "outputs": [],
   "source": []
  }
 ],
 "metadata": {
  "kernelspec": {
   "display_name": "Python 3",
   "language": "python",
   "name": "python3"
  },
  "language_info": {
   "codemirror_mode": {
    "name": "ipython",
    "version": 3
   },
   "file_extension": ".py",
   "mimetype": "text/x-python",
   "name": "python",
   "nbconvert_exporter": "python",
   "pygments_lexer": "ipython3",
   "version": "3.6.5"
  }
 },
 "nbformat": 4,
 "nbformat_minor": 2
}
